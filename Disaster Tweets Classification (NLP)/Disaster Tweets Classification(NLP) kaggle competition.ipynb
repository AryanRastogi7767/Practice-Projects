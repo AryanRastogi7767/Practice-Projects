{
 "cells": [
  {
   "cell_type": "markdown",
   "metadata": {},
   "source": [
    "**Columns**\n",
    "\n",
    "1. id - a unique identifier for each tweet\n",
    "2. text - the text of the tweet\n",
    "3. location - the location the tweet was sent from (may be blank)\n",
    "4. keyword - a particular keyword from the tweet (may be blank)\n",
    "5. target - in train.csv only, this denotes whether a tweet is about a real disaster (1) or not (0)\n",
    "\n",
    "**Evaluation metric: F1 Score**"
   ]
  },
  {
   "cell_type": "code",
   "execution_count": 1,
   "metadata": {},
   "outputs": [],
   "source": [
    "import numpy as np\n",
    "import pandas as pd \n",
    "import matplotlib.pyplot as plt\n",
    "import seaborn as sns\n",
    "import re\n",
    "from bs4 import BeautifulSoup\n",
    "from nltk.corpus import stopwords\n",
    "from tqdm import tqdm\n",
    "from nltk.stem.snowball import SnowballStemmer\n",
    "from sklearn.feature_extraction.text import CountVectorizer\n",
    "from sklearn.model_selection import GridSearchCV\n",
    "from sklearn.model_selection import RandomizedSearchCV\n",
    "from sklearn.metrics import classification_report,accuracy_score,confusion_matrix\n",
    "from sklearn.neighbors import KNeighborsClassifier\n",
    "from sklearn.model_selection import train_test_split\n",
    "from sklearn.feature_extraction.text import TfidfVectorizer\n",
    "from sklearn.svm import SVC\n",
    "from sklearn.naive_bayes import GaussianNB\n",
    "from sklearn.linear_model import LogisticRegression\n",
    "from sklearn.linear_model import SGDClassifier\n",
    "import xgboost as xgb\n",
    "from sklearn.ensemble import RandomForestClassifier\n",
    "from mlxtend.classifier import StackingClassifier\n",
    "from sklearn.model_selection import cross_val_score\n",
    "from sklearn.manifold import TSNE\n",
    "from sklearn.decomposition import TruncatedSVD\n",
    "%matplotlib inline"
   ]
  },
  {
   "cell_type": "code",
   "execution_count": 2,
   "metadata": {},
   "outputs": [
    {
     "name": "stdout",
     "output_type": "stream",
     "text": [
      "   id keyword location                                               text  \\\n",
      "0   1     NaN      NaN  Our Deeds are the Reason of this #earthquake M...   \n",
      "1   4     NaN      NaN             Forest fire near La Ronge Sask. Canada   \n",
      "2   5     NaN      NaN  All residents asked to 'shelter in place' are ...   \n",
      "\n",
      "   target  \n",
      "0       1  \n",
      "1       1  \n",
      "2       1  \n",
      "(7613, 5)\n"
     ]
    }
   ],
   "source": [
    "train = pd.read_csv('train.csv')\n",
    "print(train.head(3))\n",
    "print(train.shape)"
   ]
  },
  {
   "cell_type": "code",
   "execution_count": 3,
   "metadata": {},
   "outputs": [
    {
     "name": "stdout",
     "output_type": "stream",
     "text": [
      "   id keyword location                                               text\n",
      "0   0     NaN      NaN                 Just happened a terrible car crash\n",
      "1   2     NaN      NaN  Heard about #earthquake is different cities, s...\n",
      "2   3     NaN      NaN  there is a forest fire at spot pond, geese are...\n",
      "(3263, 4)\n"
     ]
    }
   ],
   "source": [
    "test = pd.read_csv('test.csv')\n",
    "print(test.head(3))\n",
    "print(test.shape)"
   ]
  },
  {
   "cell_type": "code",
   "execution_count": 4,
   "metadata": {},
   "outputs": [
    {
     "name": "stdout",
     "output_type": "stream",
     "text": [
      "   id  target\n",
      "0   0       0\n",
      "1   2       0\n",
      "2   3       0\n",
      "(3263, 2)\n"
     ]
    }
   ],
   "source": [
    "sample= pd.read_csv('sample_submission.csv')\n",
    "print(sample.head(3))\n",
    "print(sample.shape)"
   ]
  },
  {
   "cell_type": "markdown",
   "metadata": {},
   "source": [
    "# EDA"
   ]
  },
  {
   "cell_type": "code",
   "execution_count": 5,
   "metadata": {},
   "outputs": [
    {
     "data": {
      "text/plain": [
       "0    4342\n",
       "1    3271\n",
       "Name: target, dtype: int64"
      ]
     },
     "execution_count": 5,
     "metadata": {},
     "output_type": "execute_result"
    }
   ],
   "source": [
    "train['target'].value_counts() #data is approximately balanced."
   ]
  },
  {
   "cell_type": "code",
   "execution_count": 6,
   "metadata": {},
   "outputs": [
    {
     "data": {
      "text/plain": [
       "<matplotlib.axes._subplots.AxesSubplot at 0x24b3e24cf60>"
      ]
     },
     "execution_count": 6,
     "metadata": {},
     "output_type": "execute_result"
    },
    {
     "data": {
      "image/png": "[encoded data removed]",
      "text/plain": [
       "<Figure size 576x360 with 2 Axes>"
      ]
     },
     "metadata": {
      "needs_background": "light"
     },
     "output_type": "display_data"
    }
   ],
   "source": [
    "# Checking the null values.\n",
    "fig = plt.figure(figsize = (8,5))\n",
    "sns.heatmap(train.isnull())"
   ]
  },
  {
   "cell_type": "code",
   "execution_count": 7,
   "metadata": {},
   "outputs": [
    {
     "data": {
      "text/plain": [
       "False    7552\n",
       "True       61\n",
       "Name: keyword, dtype: int64"
      ]
     },
     "execution_count": 7,
     "metadata": {},
     "output_type": "execute_result"
    }
   ],
   "source": [
    "train['keyword'].isnull().value_counts() # 61 values out of 7613 are missing in the 'keyword' column."
   ]
  },
  {
   "cell_type": "code",
   "execution_count": 8,
   "metadata": {},
   "outputs": [
    {
     "data": {
      "text/plain": [
       "False    5080\n",
       "True     2533\n",
       "Name: location, dtype: int64"
      ]
     },
     "execution_count": 8,
     "metadata": {},
     "output_type": "execute_result"
    }
   ],
   "source": [
    "train['location'].isnull().value_counts() # 2533 values out of 7613 are missing in the 'location' column."
   ]
  },
  {
   "cell_type": "code",
   "execution_count": 9,
   "metadata": {},
   "outputs": [
    {
     "data": {
      "text/plain": [
       "3341"
      ]
     },
     "execution_count": 9,
     "metadata": {},
     "output_type": "execute_result"
    }
   ],
   "source": [
    "train['location'].nunique()"
   ]
  },
  {
   "cell_type": "code",
   "execution_count": 10,
   "metadata": {},
   "outputs": [
    {
     "data": {
      "text/plain": [
       "array([nan, 'ablaze', 'accident', 'aftershock', 'airplane%20accident',\n",
       "       'ambulance', 'annihilated', 'annihilation', 'apocalypse',\n",
       "       'armageddon', 'army', 'arson', 'arsonist', 'attack', 'attacked',\n",
       "       'avalanche', 'battle', 'bioterror', 'bioterrorism', 'blaze',\n",
       "       'blazing', 'bleeding', 'blew%20up', 'blight', 'blizzard', 'blood',\n",
       "       'bloody', 'blown%20up', 'body%20bag', 'body%20bagging',\n",
       "       'body%20bags', 'bomb', 'bombed', 'bombing', 'bridge%20collapse',\n",
       "       'buildings%20burning', 'buildings%20on%20fire', 'burned',\n",
       "       'burning', 'burning%20buildings', 'bush%20fires', 'casualties',\n",
       "       'casualty', 'catastrophe', 'catastrophic', 'chemical%20emergency',\n",
       "       'cliff%20fall', 'collapse', 'collapsed', 'collide'], dtype=object)"
      ]
     },
     "execution_count": 10,
     "metadata": {},
     "output_type": "execute_result"
    }
   ],
   "source": [
    "train['keyword'].unique()[:50] # there are 221 unique values including nan."
   ]
  },
  {
   "cell_type": "markdown",
   "metadata": {},
   "source": [
    "**From this sample we can see that there are many values in this column which mean the same and therefore should be replaced by a common word (Stemming). Some values have '%20' in them which will be replaced by \" \".**"
   ]
  },
  {
   "cell_type": "code",
   "execution_count": 11,
   "metadata": {},
   "outputs": [],
   "source": [
    "real = train[train['target'] == 1] # creating separate dataframes for both the classes to do class specific analysis.\n",
    "fake = train[train['target'] == 0]"
   ]
  },
  {
   "cell_type": "code",
   "execution_count": 12,
   "metadata": {},
   "outputs": [
    {
     "data": {
      "text/plain": [
       "1513"
      ]
     },
     "execution_count": 12,
     "metadata": {},
     "output_type": "execute_result"
    }
   ],
   "source": [
    "real['location'].nunique() # we can see that only 1513 out of 3341 unique locations are in real data."
   ]
  },
  {
   "cell_type": "markdown",
   "metadata": {},
   "source": [
    "**We can see that only 1513 out of 3341 unique locations are in real data. So, intuitively, we can build a simple classifier (for the given data) using if else saying that:**\n",
    "\n",
    "**If the location of the query point is in the 1513 unique values then the tweet is real else it is fake.**\n",
    "\n",
    "**But this is not really a proper logical solution to our problem as there will be some locations that will be common in both the datasets.**"
   ]
  },
  {
   "cell_type": "code",
   "execution_count": 13,
   "metadata": {},
   "outputs": [
    {
     "data": {
      "text/plain": [
       "2142"
      ]
     },
     "execution_count": 13,
     "metadata": {},
     "output_type": "execute_result"
    }
   ],
   "source": [
    "fake['location'].nunique()"
   ]
  },
  {
   "cell_type": "markdown",
   "metadata": {},
   "source": [
    "**From this we can see that there are 314 common locations in both the datasets.**"
   ]
  },
  {
   "cell_type": "code",
   "execution_count": 14,
   "metadata": {},
   "outputs": [
    {
     "data": {
      "text/html": [
       "<div>\n",
       "<style scoped>\n",
       "    .dataframe tbody tr th:only-of-type {\n",
       "        vertical-align: middle;\n",
       "    }\n",
       "\n",
       "    .dataframe tbody tr th {\n",
       "        vertical-align: top;\n",
       "    }\n",
       "\n",
       "    .dataframe thead th {\n",
       "        text-align: right;\n",
       "    }\n",
       "</style>\n",
       "<table border=\"1\" class=\"dataframe\">\n",
       "  <thead>\n",
       "    <tr style=\"text-align: right;\">\n",
       "      <th></th>\n",
       "      <th>id</th>\n",
       "      <th>keyword</th>\n",
       "      <th>location</th>\n",
       "      <th>text</th>\n",
       "      <th>target</th>\n",
       "    </tr>\n",
       "  </thead>\n",
       "  <tbody>\n",
       "    <tr>\n",
       "      <th>0</th>\n",
       "      <td>1</td>\n",
       "      <td>NaN</td>\n",
       "      <td>NaN</td>\n",
       "      <td>Our Deeds are the Reason of this #earthquake M...</td>\n",
       "      <td>1</td>\n",
       "    </tr>\n",
       "    <tr>\n",
       "      <th>1</th>\n",
       "      <td>4</td>\n",
       "      <td>NaN</td>\n",
       "      <td>NaN</td>\n",
       "      <td>Forest fire near La Ronge Sask. Canada</td>\n",
       "      <td>1</td>\n",
       "    </tr>\n",
       "    <tr>\n",
       "      <th>2</th>\n",
       "      <td>5</td>\n",
       "      <td>NaN</td>\n",
       "      <td>NaN</td>\n",
       "      <td>All residents asked to 'shelter in place' are ...</td>\n",
       "      <td>1</td>\n",
       "    </tr>\n",
       "    <tr>\n",
       "      <th>3</th>\n",
       "      <td>6</td>\n",
       "      <td>NaN</td>\n",
       "      <td>NaN</td>\n",
       "      <td>13,000 people receive #wildfires evacuation or...</td>\n",
       "      <td>1</td>\n",
       "    </tr>\n",
       "    <tr>\n",
       "      <th>4</th>\n",
       "      <td>7</td>\n",
       "      <td>NaN</td>\n",
       "      <td>NaN</td>\n",
       "      <td>Just got sent this photo from Ruby #Alaska as ...</td>\n",
       "      <td>1</td>\n",
       "    </tr>\n",
       "  </tbody>\n",
       "</table>\n",
       "</div>"
      ],
      "text/plain": [
       "   id keyword location                                               text  \\\n",
       "0   1     NaN      NaN  Our Deeds are the Reason of this #earthquake M...   \n",
       "1   4     NaN      NaN             Forest fire near La Ronge Sask. Canada   \n",
       "2   5     NaN      NaN  All residents asked to 'shelter in place' are ...   \n",
       "3   6     NaN      NaN  13,000 people receive #wildfires evacuation or...   \n",
       "4   7     NaN      NaN  Just got sent this photo from Ruby #Alaska as ...   \n",
       "\n",
       "   target  \n",
       "0       1  \n",
       "1       1  \n",
       "2       1  \n",
       "3       1  \n",
       "4       1  "
      ]
     },
     "execution_count": 14,
     "metadata": {},
     "output_type": "execute_result"
    }
   ],
   "source": [
    "train[train['keyword'].isnull()==True].head()"
   ]
  },
  {
   "cell_type": "code",
   "execution_count": 15,
   "metadata": {},
   "outputs": [
    {
     "data": {
      "text/plain": [
       "1    42\n",
       "0    19\n",
       "Name: target, dtype: int64"
      ]
     },
     "execution_count": 15,
     "metadata": {},
     "output_type": "execute_result"
    }
   ],
   "source": [
    "train[train['keyword'].isnull()==True]['target'].value_counts()"
   ]
  },
  {
   "cell_type": "code",
   "execution_count": 16,
   "metadata": {},
   "outputs": [
    {
     "data": {
      "text/plain": [
       "0    1458\n",
       "1    1075\n",
       "Name: target, dtype: int64"
      ]
     },
     "execution_count": 16,
     "metadata": {},
     "output_type": "execute_result"
    }
   ],
   "source": [
    "train[train['location'].isnull()==True]['target'].value_counts()"
   ]
  },
  {
   "cell_type": "code",
   "execution_count": 17,
   "metadata": {},
   "outputs": [
    {
     "data": {
      "text/html": [
       "<div>\n",
       "<style scoped>\n",
       "    .dataframe tbody tr th:only-of-type {\n",
       "        vertical-align: middle;\n",
       "    }\n",
       "\n",
       "    .dataframe tbody tr th {\n",
       "        vertical-align: top;\n",
       "    }\n",
       "\n",
       "    .dataframe thead th {\n",
       "        text-align: right;\n",
       "    }\n",
       "</style>\n",
       "<table border=\"1\" class=\"dataframe\">\n",
       "  <thead>\n",
       "    <tr style=\"text-align: right;\">\n",
       "      <th></th>\n",
       "      <th>keyword</th>\n",
       "    </tr>\n",
       "  </thead>\n",
       "  <tbody>\n",
       "    <tr>\n",
       "      <th>31</th>\n",
       "      <td>ablaze</td>\n",
       "    </tr>\n",
       "    <tr>\n",
       "      <th>32</th>\n",
       "      <td>ablaze</td>\n",
       "    </tr>\n",
       "    <tr>\n",
       "      <th>33</th>\n",
       "      <td>ablaze</td>\n",
       "    </tr>\n",
       "    <tr>\n",
       "      <th>34</th>\n",
       "      <td>ablaze</td>\n",
       "    </tr>\n",
       "    <tr>\n",
       "      <th>35</th>\n",
       "      <td>ablaze</td>\n",
       "    </tr>\n",
       "  </tbody>\n",
       "</table>\n",
       "</div>"
      ],
      "text/plain": [
       "   keyword\n",
       "31  ablaze\n",
       "32  ablaze\n",
       "33  ablaze\n",
       "34  ablaze\n",
       "35  ablaze"
      ]
     },
     "execution_count": 17,
     "metadata": {},
     "output_type": "execute_result"
    }
   ],
   "source": [
    "# creating a new dataframe that consists on non null values of the keywords\n",
    "keywords = pd.DataFrame(train[train['keyword'].isnull()== False]['keyword'])\n",
    "keywords.head()"
   ]
  },
  {
   "cell_type": "markdown",
   "metadata": {},
   "source": [
    "# Preprocessing"
   ]
  },
  {
   "cell_type": "code",
   "execution_count": 18,
   "metadata": {},
   "outputs": [
    {
     "name": "stderr",
     "output_type": "stream",
     "text": [
      "100%|██████████████████████████████████████████████████████████████████████████| 7613/7613 [00:00<00:00, 691961.09it/s]\n"
     ]
    }
   ],
   "source": [
    "processed_key = []\n",
    "for word in tqdm(train['keyword'].values):\n",
    "    key = str(word).replace(\"%20\",\" \")\n",
    "    processed_key.append(key)"
   ]
  },
  {
   "cell_type": "markdown",
   "metadata": {},
   "source": [
    "**As keywords are usually the main cause of the disaster so they can be important for us. Therefore to use them effecticely we can add then to our text column and this will help us create a corpus that has all the words as well as keywords.**"
   ]
  },
  {
   "cell_type": "markdown",
   "metadata": {},
   "source": [
    "**Now I'll replace the keywords column in train with the preprocessed_keys.**"
   ]
  },
  {
   "cell_type": "code",
   "execution_count": 19,
   "metadata": {},
   "outputs": [],
   "source": [
    "train['processed_keys'] = processed_key"
   ]
  },
  {
   "cell_type": "code",
   "execution_count": 20,
   "metadata": {},
   "outputs": [],
   "source": [
    "train.drop(labels= 'keyword',inplace = True,axis = 1)"
   ]
  },
  {
   "cell_type": "code",
   "execution_count": 21,
   "metadata": {},
   "outputs": [
    {
     "data": {
      "text/html": [
       "<div>\n",
       "<style scoped>\n",
       "    .dataframe tbody tr th:only-of-type {\n",
       "        vertical-align: middle;\n",
       "    }\n",
       "\n",
       "    .dataframe tbody tr th {\n",
       "        vertical-align: top;\n",
       "    }\n",
       "\n",
       "    .dataframe thead th {\n",
       "        text-align: right;\n",
       "    }\n",
       "</style>\n",
       "<table border=\"1\" class=\"dataframe\">\n",
       "  <thead>\n",
       "    <tr style=\"text-align: right;\">\n",
       "      <th></th>\n",
       "      <th>id</th>\n",
       "      <th>location</th>\n",
       "      <th>text</th>\n",
       "      <th>target</th>\n",
       "      <th>processed_keys</th>\n",
       "    </tr>\n",
       "  </thead>\n",
       "  <tbody>\n",
       "    <tr>\n",
       "      <th>0</th>\n",
       "      <td>1</td>\n",
       "      <td>NaN</td>\n",
       "      <td>Our Deeds are the Reason of this #earthquake M...</td>\n",
       "      <td>1</td>\n",
       "      <td>nan</td>\n",
       "    </tr>\n",
       "    <tr>\n",
       "      <th>1</th>\n",
       "      <td>4</td>\n",
       "      <td>NaN</td>\n",
       "      <td>Forest fire near La Ronge Sask. Canada</td>\n",
       "      <td>1</td>\n",
       "      <td>nan</td>\n",
       "    </tr>\n",
       "    <tr>\n",
       "      <th>2</th>\n",
       "      <td>5</td>\n",
       "      <td>NaN</td>\n",
       "      <td>All residents asked to 'shelter in place' are ...</td>\n",
       "      <td>1</td>\n",
       "      <td>nan</td>\n",
       "    </tr>\n",
       "    <tr>\n",
       "      <th>3</th>\n",
       "      <td>6</td>\n",
       "      <td>NaN</td>\n",
       "      <td>13,000 people receive #wildfires evacuation or...</td>\n",
       "      <td>1</td>\n",
       "      <td>nan</td>\n",
       "    </tr>\n",
       "    <tr>\n",
       "      <th>4</th>\n",
       "      <td>7</td>\n",
       "      <td>NaN</td>\n",
       "      <td>Just got sent this photo from Ruby #Alaska as ...</td>\n",
       "      <td>1</td>\n",
       "      <td>nan</td>\n",
       "    </tr>\n",
       "  </tbody>\n",
       "</table>\n",
       "</div>"
      ],
      "text/plain": [
       "   id location                                               text  target  \\\n",
       "0   1      NaN  Our Deeds are the Reason of this #earthquake M...       1   \n",
       "1   4      NaN             Forest fire near La Ronge Sask. Canada       1   \n",
       "2   5      NaN  All residents asked to 'shelter in place' are ...       1   \n",
       "3   6      NaN  13,000 people receive #wildfires evacuation or...       1   \n",
       "4   7      NaN  Just got sent this photo from Ruby #Alaska as ...       1   \n",
       "\n",
       "  processed_keys  \n",
       "0            nan  \n",
       "1            nan  \n",
       "2            nan  \n",
       "3            nan  \n",
       "4            nan  "
      ]
     },
     "execution_count": 21,
     "metadata": {},
     "output_type": "execute_result"
    }
   ],
   "source": [
    "train.head()"
   ]
  },
  {
   "cell_type": "code",
   "execution_count": 22,
   "metadata": {},
   "outputs": [],
   "source": [
    "train.drop([15,30,5115],inplace = True)#dropping these rows as text values in these data point turn into null on preprocessing "
   ]
  },
  {
   "cell_type": "markdown",
   "metadata": {},
   "source": [
    "## Training and modeling only on keywords."
   ]
  },
  {
   "cell_type": "code",
   "execution_count": 23,
   "metadata": {},
   "outputs": [
    {
     "name": "stdout",
     "output_type": "stream",
     "text": [
      "(5707,) (1903,)\n"
     ]
    }
   ],
   "source": [
    "# TRAIN TEST SPLIT OF THE KEYWORD COLUMN IN 75:25 RATIO.\n",
    "xktrain, xktest, yktrain, yktest = train_test_split(train['processed_keys'],train['target'], test_size=0.25)\n",
    "print(xktrain.shape, xktest.shape)"
   ]
  },
  {
   "cell_type": "code",
   "execution_count": 24,
   "metadata": {},
   "outputs": [
    {
     "name": "stdout",
     "output_type": "stream",
     "text": [
      "(5707, 230) (1903, 230)\n"
     ]
    }
   ],
   "source": [
    "# BAG OF WORDS ON KEYWORDS\n",
    "bow_keys = CountVectorizer()\n",
    "bow_keys.fit(train['processed_keys'])\n",
    "xktrain_bow = bow_keys.transform(xktrain)\n",
    "xktest_bow = bow_keys.transform(xktest)\n",
    "print(xktrain_bow.shape,xktest_bow.shape)"
   ]
  },
  {
   "cell_type": "code",
   "execution_count": 25,
   "metadata": {},
   "outputs": [
    {
     "name": "stdout",
     "output_type": "stream",
     "text": [
      "(5707, 230) (1903, 230)\n"
     ]
    }
   ],
   "source": [
    "# CREATING DATAFRAMES FOR BAG OF WORD VECTORS SO AS TO USE THEM IN FUTURE WITH \"TEXT\" CORPUS.\n",
    "dfk_train_bow = pd.DataFrame(xktrain_bow.todense(),columns= bow_keys.get_feature_names())\n",
    "dfk_test_bow = pd.DataFrame(xktest_bow.todense(),columns= bow_keys.get_feature_names())\n",
    "print(dfk_train_bow.shape,dfk_test_bow.shape)"
   ]
  },
  {
   "cell_type": "code",
   "execution_count": 26,
   "metadata": {},
   "outputs": [
    {
     "name": "stdout",
     "output_type": "stream",
     "text": [
      "(5707, 230) (1903, 230)\n"
     ]
    }
   ],
   "source": [
    "# TFIDF ON KEYWORDS\n",
    "tfidf_keys = TfidfVectorizer()\n",
    "tfidf_keys.fit(train['processed_keys'])\n",
    "xktrain_tfidf = tfidf_keys.transform(xktrain)\n",
    "xktest_tfidf= tfidf_keys.transform(xktest)\n",
    "print(xktrain_tfidf.shape,xktest_tfidf.shape)"
   ]
  },
  {
   "cell_type": "code",
   "execution_count": 27,
   "metadata": {},
   "outputs": [
    {
     "name": "stdout",
     "output_type": "stream",
     "text": [
      "(5707, 230) (1903, 230)\n"
     ]
    }
   ],
   "source": [
    "# CREATING DATAFRAMES FOR TFIDF VECTORS SO AS TO USE THEM IN FUTURE WITH \"TEXT\" CORPUS.\n",
    "dfk_train_tfidf = pd.DataFrame(xktrain_tfidf.todense(),columns= tfidf_keys.get_feature_names())\n",
    "dfk_test_tfidf = pd.DataFrame(xktest_tfidf.todense(),columns= tfidf_keys.get_feature_names())\n",
    "print(dfk_train_tfidf.shape,dfk_test_tfidf.shape)"
   ]
  },
  {
   "cell_type": "markdown",
   "metadata": {},
   "source": [
    "**I have majorly used linear models here as they tend to perform better on presence of high dimensional data.**"
   ]
  },
  {
   "cell_type": "code",
   "execution_count": 28,
   "metadata": {},
   "outputs": [
    {
     "name": "stdout",
     "output_type": "stream",
     "text": [
      "              precision    recall  f1-score   support\n",
      "\n",
      "           0       0.75      0.80      0.77      1088\n",
      "           1       0.70      0.65      0.67       815\n",
      "\n",
      "    accuracy                           0.73      1903\n",
      "   macro avg       0.73      0.72      0.72      1903\n",
      "weighted avg       0.73      0.73      0.73      1903\n",
      "\n"
     ]
    }
   ],
   "source": [
    "# LOGISTIC REGRESSION ON BOW\n",
    "lr_key_bow = LogisticRegression(solver = 'liblinear')\n",
    "lr_key_bow.fit(xktrain_bow,yktrain)\n",
    "lr_key_bow_pred= lr_key_bow.predict(xktest_bow)\n",
    "print(classification_report(yktest,lr_key_bow_pred))\n",
    "# print(sns.heatmap(confusion_matrix(yktest,lr_key_bow_pred),cmap= 'coolwarm',annot = True))"
   ]
  },
  {
   "cell_type": "code",
   "execution_count": 29,
   "metadata": {},
   "outputs": [
    {
     "name": "stdout",
     "output_type": "stream",
     "text": [
      "              precision    recall  f1-score   support\n",
      "\n",
      "           0       0.75      0.80      0.77      1088\n",
      "           1       0.70      0.65      0.67       815\n",
      "\n",
      "    accuracy                           0.73      1903\n",
      "   macro avg       0.73      0.72      0.72      1903\n",
      "weighted avg       0.73      0.73      0.73      1903\n",
      "\n"
     ]
    }
   ],
   "source": [
    "# LOGISTIC REGRESSION ON TFIDF\n",
    "lr_key_tfidf = LogisticRegression(solver = 'liblinear')\n",
    "lr_key_tfidf.fit(xktrain_tfidf,yktrain)\n",
    "lr_key_tfidf_pred= lr_key_tfidf.predict(xktest_tfidf)\n",
    "print(classification_report(yktest,lr_key_tfidf_pred))\n",
    "# print(sns.heatmap(confusion_matrix(yktest,lr_key_tfidf_pred),cmap= 'coolwarm',annot = True))"
   ]
  },
  {
   "cell_type": "code",
   "execution_count": 30,
   "metadata": {},
   "outputs": [
    {
     "name": "stdout",
     "output_type": "stream",
     "text": [
      "              precision    recall  f1-score   support\n",
      "\n",
      "           0       0.75      0.80      0.77      1088\n",
      "           1       0.71      0.64      0.67       815\n",
      "\n",
      "    accuracy                           0.73      1903\n",
      "   macro avg       0.73      0.72      0.72      1903\n",
      "weighted avg       0.73      0.73      0.73      1903\n",
      "\n"
     ]
    }
   ],
   "source": [
    "# LINEAR SVM ON BOW                       --> RBF SVM PERFORMED VERY POORLY ON THIS DATA\n",
    "svm_key_bow = SVC(kernel = 'linear')\n",
    "svm_key_bow.fit(xktrain_bow,yktrain)\n",
    "svm_key_bow_pred= svm_key_bow.predict(xktest_bow)\n",
    "print(classification_report(yktest,svm_key_bow_pred))"
   ]
  },
  {
   "cell_type": "code",
   "execution_count": 31,
   "metadata": {},
   "outputs": [
    {
     "name": "stdout",
     "output_type": "stream",
     "text": [
      "              precision    recall  f1-score   support\n",
      "\n",
      "           0       0.75      0.80      0.77      1088\n",
      "           1       0.70      0.65      0.67       815\n",
      "\n",
      "    accuracy                           0.73      1903\n",
      "   macro avg       0.73      0.72      0.72      1903\n",
      "weighted avg       0.73      0.73      0.73      1903\n",
      "\n"
     ]
    }
   ],
   "source": [
    "# LINEAR SVM ON TFIDF                      --> RBF SVM PERFORMED VERY POORLY ON THIS DATA\n",
    "svm_key_tfidf= SVC(kernel = 'linear')\n",
    "svm_key_tfidf.fit(xktrain_tfidf,yktrain)\n",
    "svm_key_tfidf_pred= svm_key_tfidf.predict(xktest_tfidf)\n",
    "print(classification_report(yktest,svm_key_tfidf_pred))"
   ]
  },
  {
   "cell_type": "markdown",
   "metadata": {},
   "source": [
    "**As preprocessing the \"text\" column completely was time consuming every time I ran the notebook so I saved it in the form of a dataframe into a separate csv file named \"pp_tweets.csv\". I will mention the code snippet for preprocessing in commented form below.**"
   ]
  },
  {
   "cell_type": "code",
   "execution_count": 32,
   "metadata": {},
   "outputs": [],
   "source": [
    "# https://gist.github.com/sebleier/554280    ---> found this really nice and short algo for preprocessing and so used it here.\n",
    "# def decontracted(phrase):\n",
    "#     # specific\n",
    "#     phrase = re.sub(r\"won't\", \"will not\", phrase)\n",
    "#     phrase = re.sub(r\"can\\'t\", \"can not\", phrase)\n",
    "\n",
    "#     # general\n",
    "#     phrase = re.sub(r\"n\\'t\", \" not\", phrase)\n",
    "#     phrase = re.sub(r\"\\'re\", \" are\", phrase)\n",
    "#     phrase = re.sub(r\"\\'s\", \" is\", phrase)\n",
    "#     phrase = re.sub(r\"\\'d\", \" would\", phrase)\n",
    "#     phrase = re.sub(r\"\\'ll\", \" will\", phrase)\n",
    "#     phrase = re.sub(r\"\\'t\", \" not\", phrase)\n",
    "#     phrase = re.sub(r\"\\'ve\", \" have\", phrase)\n",
    "#     phrase = re.sub(r\"\\'m\", \" am\", phrase)\n",
    "#     return phrase\n",
    "\n",
    "# preprocessed_tweets = []\n",
    "# # tqdm is for printing the status bar\n",
    "# for sentance in tqdm(train['text'].values):\n",
    "#     sentance = re.sub(r\"http\\S+\", \"\", sentance)\n",
    "#     sentance = BeautifulSoup(sentance, 'lxml').get_text()\n",
    "#     sentance = decontracted(sentance)\n",
    "#     sentance = re.sub(\"\\S*\\d\\S*\", \"\", sentance).strip()\n",
    "#     sentance = re.sub('[^A-Za-z]+', ' ', sentance)\n",
    "#     #preprocessed_tweets.append(' '.join(token.lower() for token in nltk.word_tokenize(sentance) if token.lower() not in stopwords.words('english')))\n",
    "#     sentance = ' '.join(e.lower() for e in sentance.split() if e.lower() not in stopwords.words())\n",
    "#     preprocessed_tweets.append(sentance.strip())"
   ]
  },
  {
   "cell_type": "code",
   "execution_count": 33,
   "metadata": {},
   "outputs": [
    {
     "name": "stdout",
     "output_type": "stream",
     "text": [
      "     processed_tweets  target\n",
      "15                NaN       0\n",
      "30                NaN       0\n",
      "5115              NaN       0\n",
      "                                    processed_tweets  target\n",
      "0       deeds reason earthquake may allah forgive us       1\n",
      "1                 forest fire near ronge sask canada       1\n",
      "2  residents asked ishelter place notified office...       1\n",
      "(7610, 2)\n"
     ]
    }
   ],
   "source": [
    "tweets = pd.read_csv('pp_tweets.csv')\n",
    "tweets.drop(labels = 'Unnamed: 0',axis = 1,inplace = True)\n",
    "print(tweets[tweets['processed_tweets'].isnull()==True])\n",
    "tweets.dropna(inplace = True)  # there were 3 null values in data after preprocessing so I had to remove them from the data.\n",
    "print(tweets.head(3))\n",
    "print(tweets.shape)"
   ]
  },
  {
   "cell_type": "code",
   "execution_count": 34,
   "metadata": {},
   "outputs": [
    {
     "name": "stderr",
     "output_type": "stream",
     "text": [
      "100%|████████████████████████████████████████████████████████████████████████████| 7610/7610 [00:01<00:00, 4382.44it/s]\n"
     ]
    }
   ],
   "source": [
    "# STEMMING THE DATA AND ADDING IT TO DATAFRAME.\n",
    "new_list = []\n",
    "for text in tqdm(tweets['processed_tweets'].values):\n",
    "    text = text.split()\n",
    "    stemmer = SnowballStemmer(\"english\")\n",
    "    stemmed_text = []\n",
    "    for word in text:\n",
    "        word = stemmer.stem(word)\n",
    "        stemmed_text.append(word)\n",
    "    new_list.append(\" \".join(stemmed_text))    \n",
    "    \n",
    "tweets['stemmed_words']  = new_list"
   ]
  },
  {
   "cell_type": "code",
   "execution_count": 35,
   "metadata": {},
   "outputs": [
    {
     "data": {
      "text/html": [
       "<div>\n",
       "<style scoped>\n",
       "    .dataframe tbody tr th:only-of-type {\n",
       "        vertical-align: middle;\n",
       "    }\n",
       "\n",
       "    .dataframe tbody tr th {\n",
       "        vertical-align: top;\n",
       "    }\n",
       "\n",
       "    .dataframe thead th {\n",
       "        text-align: right;\n",
       "    }\n",
       "</style>\n",
       "<table border=\"1\" class=\"dataframe\">\n",
       "  <thead>\n",
       "    <tr style=\"text-align: right;\">\n",
       "      <th></th>\n",
       "      <th>processed_tweets</th>\n",
       "      <th>target</th>\n",
       "      <th>stemmed_words</th>\n",
       "    </tr>\n",
       "  </thead>\n",
       "  <tbody>\n",
       "    <tr>\n",
       "      <th>0</th>\n",
       "      <td>deeds reason earthquake may allah forgive us</td>\n",
       "      <td>1</td>\n",
       "      <td>deed reason earthquak may allah forgiv us</td>\n",
       "    </tr>\n",
       "    <tr>\n",
       "      <th>1</th>\n",
       "      <td>forest fire near ronge sask canada</td>\n",
       "      <td>1</td>\n",
       "      <td>forest fire near rong sask canada</td>\n",
       "    </tr>\n",
       "    <tr>\n",
       "      <th>2</th>\n",
       "      <td>residents asked ishelter place notified office...</td>\n",
       "      <td>1</td>\n",
       "      <td>resid ask ishelt place notifi offic evacu shel...</td>\n",
       "    </tr>\n",
       "  </tbody>\n",
       "</table>\n",
       "</div>"
      ],
      "text/plain": [
       "                                    processed_tweets  target  \\\n",
       "0       deeds reason earthquake may allah forgive us       1   \n",
       "1                 forest fire near ronge sask canada       1   \n",
       "2  residents asked ishelter place notified office...       1   \n",
       "\n",
       "                                       stemmed_words  \n",
       "0          deed reason earthquak may allah forgiv us  \n",
       "1                  forest fire near rong sask canada  \n",
       "2  resid ask ishelt place notifi offic evacu shel...  "
      ]
     },
     "execution_count": 35,
     "metadata": {},
     "output_type": "execute_result"
    }
   ],
   "source": [
    "tweets.head(3)"
   ]
  },
  {
   "cell_type": "code",
   "execution_count": 36,
   "metadata": {},
   "outputs": [
    {
     "name": "stdout",
     "output_type": "stream",
     "text": [
      "(5707,) (1903,) (5707,) (1903,)\n"
     ]
    }
   ],
   "source": [
    "# SPLITTING THE DATA.\n",
    "xt_train, xt_test, yt_train, yt_test = train_test_split(tweets['stemmed_words'],tweets['target'] , test_size=0.25)\n",
    "print(xt_train.shape,xt_test.shape,yt_train.shape,yt_test.shape)"
   ]
  },
  {
   "cell_type": "code",
   "execution_count": 37,
   "metadata": {},
   "outputs": [
    {
     "name": "stdout",
     "output_type": "stream",
     "text": [
      "(5707, 55374) (1903, 55374)\n"
     ]
    }
   ],
   "source": [
    "# BAG OF WORDS ON PROCESSED_TWEETS COLUMN.\n",
    "bow_text = CountVectorizer(ngram_range=(1,2))    # including uni-grams and bi-grams.\n",
    "bow_text.fit(tweets['stemmed_words'])\n",
    "xt_train_bow = bow_text.transform(xt_train)\n",
    "xt_test_bow = bow_text.transform(xt_test)\n",
    "print(xt_train_bow.shape, xt_test_bow.shape)"
   ]
  },
  {
   "cell_type": "code",
   "execution_count": 38,
   "metadata": {},
   "outputs": [
    {
     "name": "stdout",
     "output_type": "stream",
     "text": [
      "(5707, 55374) (1903, 55374)\n"
     ]
    }
   ],
   "source": [
    "# CREATING SEPARATE DATA FRAMES TO USE IN FUTURE MODELS\n",
    "dft_train_bow = pd.DataFrame(xt_train_bow.todense(),columns= bow_text.get_feature_names())\n",
    "dft_test_bow = pd.DataFrame(xt_test_bow.todense(),columns= bow_text.get_feature_names())\n",
    "print(dft_train_bow.shape,dft_test_bow.shape)"
   ]
  },
  {
   "cell_type": "code",
   "execution_count": 39,
   "metadata": {},
   "outputs": [
    {
     "name": "stdout",
     "output_type": "stream",
     "text": [
      "Some feature names:  ['aa', 'aa ayyo', 'aa batteri', 'aa mgm', 'aaaa', 'aaaa ok', 'aaaaaaallll', 'aaaaaaallll even', 'aaaaaand', 'aaaaaand thunder', 'aaarrrgghhh', 'aac', 'aac org', 'aamir', 'aamir javaid', 'aannnnd', 'aannnnd reddit', 'aar', 'aar ambul', 'aaronthefm', 'aaronthefm guy', 'aashiqui', 'aashiqui actress', 'ab', 'ab resin', 'aba', 'aba woman', 'abandon', 'abandon aircraft', 'abandon cabin', 'abandon cocker', 'abandon deal', 'abandon lrt', 'abandon plan', 'abandon ship', 'abandon west', 'abandonedp', 'abandonedp delet', 'abbandon', 'abbandon sink', 'abbott', 'abbott campbel', 'abbott lnp', 'abbott must', 'abbruchsimul', 'abbswinston', 'abbswinston zionist', 'abbyairshow', 'abbyairshow offici', 'abc', 'abc aircraft', 'abc cbs', 'abc news', 'abc onlin', 'abc onlinea', 'abc pleas', 'abc trauma', 'abcnew', 'abcnew nuclear', 'abcnew obama', 'abcnew uk', 'abcnorio', 'abcnorio garden', 'abe', 'abe delug', 'abe govern', 'abe pledg', 'aberdeen', 'aberdeen tomorrow', 'aberdeenfanpag', 'aberdeenfanpag good', 'aberdeenfc', 'aberdeenfc aberdeenfanpag', 'aberystwyth', 'aberystwyth shrewsburi', 'abha', 'abha fatal', 'abil', 'abil annihil', 'abil massacr', 'abil offer', 'abil stand', 'abject', 'abject desol', 'abl', 'abl anyth', 'abl evacu', 'abl get', 'abl go', 'abl send', 'abl stay', 'abl support', 'abl surviv', 'abl target', 'abl touch', 'ablaz', 'ablaz aba', 'ablaz aliv', 'ablaz california', 'ablaz everi']\n"
     ]
    }
   ],
   "source": [
    "print(\"Some feature names: \",bow_text.get_feature_names()[:100])"
   ]
  },
  {
   "cell_type": "code",
   "execution_count": 40,
   "metadata": {},
   "outputs": [
    {
     "name": "stdout",
     "output_type": "stream",
     "text": [
      "(5707, 55374) (1903, 55374)\n"
     ]
    }
   ],
   "source": [
    "# TFIDF ON STEMMED DOCUMENTS\n",
    "tfidf_text = TfidfVectorizer(ngram_range=(1,2))\n",
    "tfidf_text.fit(tweets['stemmed_words'])\n",
    "xt_train_tfidf = tfidf_text.transform(xt_train)\n",
    "xt_test_tfidf = tfidf_text.transform(xt_test)\n",
    "print(xt_train_tfidf.shape,xt_test_tfidf.shape)"
   ]
  },
  {
   "cell_type": "code",
   "execution_count": 41,
   "metadata": {},
   "outputs": [
    {
     "name": "stdout",
     "output_type": "stream",
     "text": [
      "(5707, 55374) (1903, 55374)\n"
     ]
    }
   ],
   "source": [
    "# CREATING SEPARATE DATA FRAMES TO USE IN FUTURE MODELS\n",
    "dft_train_tfidf = pd.DataFrame(xt_train_tfidf.todense(),columns= tfidf_text.get_feature_names())\n",
    "dft_test_tfidf = pd.DataFrame(xt_test_tfidf.todense(),columns= tfidf_text.get_feature_names())\n",
    "print(dft_train_tfidf.shape,dft_test_tfidf.shape)"
   ]
  },
  {
   "cell_type": "markdown",
   "metadata": {},
   "source": [
    "## Training and modeling on Vectors obtained from preprocessed 'text' column."
   ]
  },
  {
   "cell_type": "code",
   "execution_count": 76,
   "metadata": {},
   "outputs": [
    {
     "name": "stdout",
     "output_type": "stream",
     "text": [
      "              precision    recall  f1-score   support\n",
      "\n",
      "           0       0.76      0.89      0.82      1033\n",
      "           1       0.83      0.67      0.74       870\n",
      "\n",
      "    accuracy                           0.79      1903\n",
      "   macro avg       0.80      0.78      0.78      1903\n",
      "weighted avg       0.79      0.79      0.78      1903\n",
      "\n"
     ]
    }
   ],
   "source": [
    "# LOGISTIC REGRESSION ON BOW\n",
    "lrt_bow = LogisticRegression(solver = 'liblinear')\n",
    "lrt_bow.fit(xt_train_bow,yt_train)\n",
    "lrt_bow_pred = lrt_bow.predict(xt_test_bow)\n",
    "print(classification_report(yt_test,lrt_bow_pred))"
   ]
  },
  {
   "cell_type": "code",
   "execution_count": 43,
   "metadata": {},
   "outputs": [
    {
     "name": "stdout",
     "output_type": "stream",
     "text": [
      "              precision    recall  f1-score   support\n",
      "\n",
      "           0       0.55      1.00      0.71      1033\n",
      "           1       0.95      0.02      0.04       870\n",
      "\n",
      "    accuracy                           0.55      1903\n",
      "   macro avg       0.75      0.51      0.38      1903\n",
      "weighted avg       0.73      0.55      0.40      1903\n",
      "\n"
     ]
    }
   ],
   "source": [
    "# LOGISTIC REGRESSION ON TFIDF\n",
    "lrt_tfidf = LogisticRegression(solver = 'liblinear')\n",
    "lrt_tfidf.fit(xt_train_tfidf,yt_train)\n",
    "lrt_tfidf_pred = lrt_bow.predict(xt_test_tfidf)\n",
    "print(classification_report(yt_test,lrt_tfidf_pred))"
   ]
  },
  {
   "cell_type": "markdown",
   "metadata": {},
   "source": [
    "**We can see that Logistic regression is working significantly better on BOW than TFIDF vectors.**"
   ]
  },
  {
   "cell_type": "code",
   "execution_count": 44,
   "metadata": {},
   "outputs": [
    {
     "name": "stdout",
     "output_type": "stream",
     "text": [
      "              precision    recall  f1-score   support\n",
      "\n",
      "           0       0.76      0.87      0.81      1033\n",
      "           1       0.81      0.67      0.73       870\n",
      "\n",
      "    accuracy                           0.78      1903\n",
      "   macro avg       0.78      0.77      0.77      1903\n",
      "weighted avg       0.78      0.78      0.77      1903\n",
      "\n"
     ]
    }
   ],
   "source": [
    "# LINEAR SVC ON BOW\n",
    "svmt_bow = SVC(kernel = 'linear')\n",
    "svmt_bow.fit(xt_train_bow,yt_train)\n",
    "svmt_bow_pred = svmt_bow.predict(xt_test_bow)\n",
    "print(classification_report(yt_test,svmt_bow_pred))"
   ]
  },
  {
   "cell_type": "code",
   "execution_count": 45,
   "metadata": {},
   "outputs": [
    {
     "name": "stdout",
     "output_type": "stream",
     "text": [
      "              precision    recall  f1-score   support\n",
      "\n",
      "           0       0.54      1.00      0.70      1033\n",
      "           1       1.00      0.00      0.00       870\n",
      "\n",
      "    accuracy                           0.54      1903\n",
      "   macro avg       0.77      0.50      0.35      1903\n",
      "weighted avg       0.75      0.54      0.38      1903\n",
      "\n"
     ]
    }
   ],
   "source": [
    "# LINEAR SVC ON TFIDF\n",
    "svmt_tfidf = SVC(kernel = 'linear')\n",
    "svmt_tfidf.fit(xt_train_tfidf,yt_train)\n",
    "svmt_tfidf_pred = svmt_bow.predict(xt_test_tfidf)\n",
    "print(classification_report(yt_test,svmt_tfidf_pred))"
   ]
  },
  {
   "cell_type": "markdown",
   "metadata": {},
   "source": [
    "**We can see that Linear SVM is also working significantly better on BOW than TFIDF vectors.**"
   ]
  },
  {
   "cell_type": "code",
   "execution_count": 46,
   "metadata": {},
   "outputs": [
    {
     "name": "stdout",
     "output_type": "stream",
     "text": [
      "              precision    recall  f1-score   support\n",
      "\n",
      "           0       0.75      0.52      0.62      1033\n",
      "           1       0.59      0.80      0.68       870\n",
      "\n",
      "    accuracy                           0.65      1903\n",
      "   macro avg       0.67      0.66      0.65      1903\n",
      "weighted avg       0.68      0.65      0.64      1903\n",
      "\n"
     ]
    }
   ],
   "source": [
    "# GAUSSIAN NAIVE BAYES ON BOW.\n",
    "nb_bow = GaussianNB()\n",
    "nb_bow.fit(xt_train_bow.toarray(),yt_train)\n",
    "nb_bow_pred = nb_bow.predict(xt_test_bow.toarray())\n",
    "print(classification_report(yt_test,nb_bow_pred))"
   ]
  },
  {
   "cell_type": "code",
   "execution_count": 47,
   "metadata": {},
   "outputs": [
    {
     "name": "stdout",
     "output_type": "stream",
     "text": [
      "              precision    recall  f1-score   support\n",
      "\n",
      "           0       0.74      0.55      0.63      1033\n",
      "           1       0.59      0.77      0.67       870\n",
      "\n",
      "    accuracy                           0.65      1903\n",
      "   macro avg       0.66      0.66      0.65      1903\n",
      "weighted avg       0.67      0.65      0.65      1903\n",
      "\n"
     ]
    }
   ],
   "source": [
    "# GAUSSIAN NAIVE BAYES ON TFIDF\n",
    "nb_tfidf = GaussianNB()\n",
    "nb_tfidf.fit(xt_train_tfidf.toarray(),yt_train)\n",
    "nb_tfidf_pred = nb_tfidf.predict(xt_test_tfidf.toarray())\n",
    "print(classification_report(yt_test,nb_tfidf_pred))"
   ]
  },
  {
   "cell_type": "code",
   "execution_count": 48,
   "metadata": {},
   "outputs": [
    {
     "name": "stdout",
     "output_type": "stream",
     "text": [
      "              precision    recall  f1-score   support\n",
      "\n",
      "           0       0.75      0.52      0.62      1033\n",
      "           1       0.59      0.80      0.68       870\n",
      "\n",
      "    accuracy                           0.65      1903\n",
      "   macro avg       0.67      0.66      0.65      1903\n",
      "weighted avg       0.68      0.65      0.64      1903\n",
      "\n"
     ]
    }
   ],
   "source": [
    "# RANDOM FOREST ON BOW\n",
    "rfct_bow = RandomForestClassifier(n_estimators=100)\n",
    "rfct_bow.fit(xt_train_bow.toarray(),yt_train)\n",
    "rfct_bow_pred = nb_bow.predict(xt_test_bow.toarray())\n",
    "print(classification_report(yt_test,rfct_bow_pred))"
   ]
  },
  {
   "cell_type": "code",
   "execution_count": 49,
   "metadata": {},
   "outputs": [
    {
     "name": "stdout",
     "output_type": "stream",
     "text": [
      "              precision    recall  f1-score   support\n",
      "\n",
      "           0       0.72      0.93      0.81      1033\n",
      "           1       0.87      0.56      0.68       870\n",
      "\n",
      "    accuracy                           0.76      1903\n",
      "   macro avg       0.79      0.74      0.74      1903\n",
      "weighted avg       0.79      0.76      0.75      1903\n",
      "\n"
     ]
    }
   ],
   "source": [
    "#RANDOM FOREST ON TFIDF\n",
    "rfct_tfidf = RandomForestClassifier(n_estimators=100)\n",
    "rfct_tfidf.fit(xt_train_tfidf.toarray(),yt_train)\n",
    "rfct_tfidf_pred = rfct_tfidf.predict(xt_test_tfidf.toarray())\n",
    "print(classification_report(yt_test,rfct_tfidf_pred))"
   ]
  },
  {
   "cell_type": "code",
   "execution_count": 50,
   "metadata": {},
   "outputs": [],
   "source": [
    "# THIS CELL WAS TAKING TOO LONG TO EXECUTE SO COMMENTED IT OUT.\n",
    "# from datetime import datetime\n",
    "# start = datetime.now()\n",
    "# grid_rfct_tfidf = GridSearchCV(RandomForestClassifier(),param_grid={'n_estimators':[50,100,200,300]},cv = 3,iid = False,verbose = 2)\n",
    "# grid_rfct_tfidf.fit(xt_train_tfidf.toarray(),yt_train)\n",
    "# grid_rfct_tfidf_pred = grid_rfct_tfidf.predict(xt_test_tfidf)\n",
    "# print(grid_rfct_tfidf.best_params_)\n",
    "# print(classification_report(yt_test,grid_rfct_tfidf_pred))\n",
    "# print(\"Time taken to run thi cell: \",datetime.now()-start)"
   ]
  },
  {
   "cell_type": "code",
   "execution_count": 51,
   "metadata": {},
   "outputs": [
    {
     "name": "stdout",
     "output_type": "stream",
     "text": [
      "(5707, 3238) (1903, 3238)\n"
     ]
    }
   ],
   "source": [
    "# CREATING BOW VECTORS BUT IGNORING FEATURES WITH LOW DOCUMENT FREQUENCY\n",
    "bow_text2 = CountVectorizer(ngram_range=(1,2),min_df= 0.0006)    # including uni-grams and bi-grams.\n",
    "bow_text2.fit(tweets['stemmed_words'])\n",
    "xt_train_bow2 = bow_text2.transform(xt_train)\n",
    "xt_test_bow2 = bow_text2.transform(xt_test)\n",
    "print(xt_train_bow2.shape, xt_test_bow2.shape)"
   ]
  },
  {
   "cell_type": "code",
   "execution_count": 52,
   "metadata": {},
   "outputs": [
    {
     "name": "stdout",
     "output_type": "stream",
     "text": [
      "(5707, 3238) (1903, 3238)\n"
     ]
    }
   ],
   "source": [
    "# CREATING TFIDF VECTORS BUT IGNORING FEATURES WITH LOW DOCUMENT FREQUENCY\n",
    "tfidf_text2 = TfidfVectorizer(ngram_range=(1,2),min_df=0.0006)\n",
    "tfidf_text2.fit(tweets['stemmed_words'])\n",
    "xt_train_tfidf2 = tfidf_text2.transform(xt_train)\n",
    "xt_test_tfidf2 = tfidf_text2.transform(xt_test)\n",
    "print(xt_train_tfidf2.shape,xt_test_tfidf2.shape)"
   ]
  },
  {
   "cell_type": "code",
   "execution_count": 53,
   "metadata": {},
   "outputs": [
    {
     "name": "stdout",
     "output_type": "stream",
     "text": [
      "              precision    recall  f1-score   support\n",
      "\n",
      "           0       0.77      0.87      0.82      1033\n",
      "           1       0.82      0.70      0.75       870\n",
      "\n",
      "    accuracy                           0.79      1903\n",
      "   macro avg       0.79      0.78      0.78      1903\n",
      "weighted avg       0.79      0.79      0.79      1903\n",
      "\n"
     ]
    }
   ],
   "source": [
    "# TRAINING LOGISTIC REGRESSION WITH BOW VECTORS WITH LESS NUMBER OF FEATURES.\n",
    "lrt_bow2 = LogisticRegression(solver = 'liblinear')\n",
    "lrt_bow2.fit(xt_train_bow2,yt_train)\n",
    "lrt_bow2_pred = lrt_bow2.predict(xt_test_bow2)\n",
    "print(classification_report(yt_test,lrt_bow2_pred))"
   ]
  },
  {
   "cell_type": "code",
   "execution_count": 54,
   "metadata": {},
   "outputs": [
    {
     "name": "stdout",
     "output_type": "stream",
     "text": [
      "              precision    recall  f1-score   support\n",
      "\n",
      "           0       0.76      0.89      0.82      1033\n",
      "           1       0.84      0.66      0.74       870\n",
      "\n",
      "    accuracy                           0.79      1903\n",
      "   macro avg       0.80      0.78      0.78      1903\n",
      "weighted avg       0.80      0.79      0.79      1903\n",
      "\n"
     ]
    }
   ],
   "source": [
    "# TRAINING LOGISTIC REGRESSION WITH TFIDF VECTORS WITH LESS NUMBER OF FEATURES.\n",
    "lrt_tfidf2 = LogisticRegression(solver = 'liblinear')\n",
    "lrt_tfidf2.fit(xt_train_tfidf2,yt_train)\n",
    "lrt_tfidf2_pred = lrt_tfidf2.predict(xt_test_tfidf2)\n",
    "print(classification_report(yt_test,lrt_tfidf2_pred))"
   ]
  },
  {
   "cell_type": "markdown",
   "metadata": {},
   "source": [
    "**From this we can see that by using only 3238 features we have performance comaparable to our normal logistic regression model using more than 55k features.**"
   ]
  },
  {
   "cell_type": "code",
   "execution_count": 55,
   "metadata": {},
   "outputs": [
    {
     "name": "stdout",
     "output_type": "stream",
     "text": [
      "(5707, 3238) (1903, 3238)\n"
     ]
    }
   ],
   "source": [
    "# CREATING DATAFRAMES OF BOW VECTORS WITH LESS FEATURES.\n",
    "dft_train_bow2 = pd.DataFrame(xt_train_bow2.todense(),columns= bow_text2.get_feature_names())\n",
    "dft_test_bow2 = pd.DataFrame(xt_test_bow2.todense(),columns= bow_text2.get_feature_names())\n",
    "print(dft_train_bow2.shape,dft_test_bow2.shape)"
   ]
  },
  {
   "cell_type": "code",
   "execution_count": 56,
   "metadata": {},
   "outputs": [
    {
     "name": "stdout",
     "output_type": "stream",
     "text": [
      "(5707, 3238) (1903, 3238)\n"
     ]
    }
   ],
   "source": [
    "# CREATING DATAFRAMES OF TFIDF VECTORS WITH LESS FEATURES.\n",
    "dft_train_tfidf2 = pd.DataFrame(xt_train_tfidf2.todense(),columns= tfidf_text2.get_feature_names())\n",
    "dft_test_tfidf2 = pd.DataFrame(xt_test_tfidf2.todense(),columns= tfidf_text2.get_feature_names())\n",
    "print(dft_train_tfidf2.shape,dft_test_tfidf2.shape)"
   ]
  },
  {
   "cell_type": "markdown",
   "metadata": {},
   "source": [
    "**Now let's concatenate the text and keyword datasets and see if the models performance improves.**"
   ]
  },
  {
   "cell_type": "code",
   "execution_count": 57,
   "metadata": {},
   "outputs": [],
   "source": [
    "# CREATING FINAL DATAFRAMES BY CONCATENATING THE PREVIOUS DATAFRAMES.\n",
    "train_bow_large = pd.concat([dfk_train_bow,dft_train_bow],axis = 1)\n",
    "test_bow_large = pd.concat([dfk_test_bow,dft_test_bow],axis = 1)\n",
    "train_bow_small = pd.concat([dfk_train_bow,dft_train_bow2],axis = 1)\n",
    "test_bow_small = pd.concat([dfk_test_bow,dft_test_bow2],axis = 1)\n",
    "train_tfidf_large = pd.concat([dfk_train_tfidf,dft_train_tfidf],axis = 1)\n",
    "test_tfidf_large = pd.concat([dfk_test_tfidf,dft_test_tfidf],axis = 1)\n",
    "train_tfidf_small = pd.concat([dfk_train_tfidf,dft_train_tfidf2],axis = 1)\n",
    "test_tfidf_small = pd.concat([dfk_test_tfidf,dft_test_tfidf2],axis = 1)"
   ]
  },
  {
   "cell_type": "code",
   "execution_count": 58,
   "metadata": {},
   "outputs": [
    {
     "name": "stdout",
     "output_type": "stream",
     "text": [
      "(5707, 55604) (1903, 55604)\n",
      "(5707, 3468) (1903, 3468)\n",
      "(5707, 55604) (1903, 55604)\n",
      "(5707, 3468) (1903, 3468)\n"
     ]
    }
   ],
   "source": [
    "# CHECKING THE SHAPE OF THE DATAFRAMES.\n",
    "print(train_bow_large.shape,test_bow_large.shape)\n",
    "print(train_bow_small.shape,test_bow_small.shape)\n",
    "print(train_tfidf_large.shape,test_tfidf_large.shape)\n",
    "print(train_tfidf_small.shape,test_tfidf_small.shape)"
   ]
  },
  {
   "cell_type": "code",
   "execution_count": 59,
   "metadata": {},
   "outputs": [
    {
     "name": "stdout",
     "output_type": "stream",
     "text": [
      "              precision    recall  f1-score   support\n",
      "\n",
      "           0       0.75      0.87      0.81      1033\n",
      "           1       0.81      0.66      0.73       870\n",
      "\n",
      "    accuracy                           0.78      1903\n",
      "   macro avg       0.78      0.77      0.77      1903\n",
      "weighted avg       0.78      0.78      0.77      1903\n",
      "\n"
     ]
    }
   ],
   "source": [
    "# TRAINING lOGISTIC REGRESSION WITH \"TEXT+KEYWORD\" BOW VECTORS WITH ALL FEATURES.\n",
    "lr_large_bow = LogisticRegression(solver= 'liblinear')\n",
    "lr_large_bow.fit(train_bow_large,yt_train)\n",
    "lr_large_bow_pred= lr_large_bow.predict(test_bow_large)\n",
    "print(classification_report(yt_test,lr_large_bow_pred))"
   ]
  },
  {
   "cell_type": "code",
   "execution_count": 60,
   "metadata": {},
   "outputs": [
    {
     "name": "stdout",
     "output_type": "stream",
     "text": [
      "              precision    recall  f1-score   support\n",
      "\n",
      "           0       0.75      0.85      0.80      1033\n",
      "           1       0.79      0.67      0.72       870\n",
      "\n",
      "    accuracy                           0.77      1903\n",
      "   macro avg       0.77      0.76      0.76      1903\n",
      "weighted avg       0.77      0.77      0.76      1903\n",
      "\n"
     ]
    }
   ],
   "source": [
    "# TRAINING lOGISTIC REGRESSION WITH \"TEXT+KEYWORD\" BOW VECTORS WITH ALL FEATURES WITH DIFF. HYPERPARAMETERS.\n",
    "lr_large_bow1 = LogisticRegression(solver= 'liblinear',penalty = 'l1', C = 1.8)#even on hyperparameter tuning the max. F1 score \n",
    "lr_large_bow1.fit(train_bow_large,yt_train)                                  # was same as above.\n",
    "lr_large_bow_pred1= lr_large_bow1.predict(test_bow_large)\n",
    "print(classification_report(yt_test,lr_large_bow_pred1))"
   ]
  },
  {
   "cell_type": "code",
   "execution_count": 61,
   "metadata": {},
   "outputs": [
    {
     "name": "stdout",
     "output_type": "stream",
     "text": [
      "              precision    recall  f1-score   support\n",
      "\n",
      "           0       0.71      0.91      0.80      1033\n",
      "           1       0.84      0.56      0.67       870\n",
      "\n",
      "    accuracy                           0.75      1903\n",
      "   macro avg       0.78      0.74      0.73      1903\n",
      "weighted avg       0.77      0.75      0.74      1903\n",
      "\n"
     ]
    }
   ],
   "source": [
    "# TRAINING lOGISTIC REGRESSION WITH \"TEXT+KEYWORD\" TFIDF VECTORS WITH ALL FEATURES.\n",
    "lr_large_tfidf = LogisticRegression(solver= 'liblinear')\n",
    "lr_large_tfidf.fit(train_tfidf_large,yt_train)\n",
    "lr_large_tfidf_pred= lr_large_tfidf.predict(test_tfidf_large)\n",
    "print(classification_report(yt_test,lr_large_tfidf_pred))"
   ]
  },
  {
   "cell_type": "code",
   "execution_count": 62,
   "metadata": {},
   "outputs": [
    {
     "name": "stdout",
     "output_type": "stream",
     "text": [
      "              precision    recall  f1-score   support\n",
      "\n",
      "           0       0.76      0.85      0.81      1033\n",
      "           1       0.80      0.69      0.74       870\n",
      "\n",
      "    accuracy                           0.78      1903\n",
      "   macro avg       0.78      0.77      0.77      1903\n",
      "weighted avg       0.78      0.78      0.78      1903\n",
      "\n"
     ]
    }
   ],
   "source": [
    "# TRAINING lOGISTIC REGRESSION WITH \"TEXT+KEYWORD\" BOW VECTORS WITH LESS FEATURES.\n",
    "lr_small_bow = LogisticRegression(solver= 'liblinear')\n",
    "lr_small_bow.fit(train_bow_small,yt_train)\n",
    "lr_small_bow_pred= lr_small_bow.predict(test_bow_small)\n",
    "print(classification_report(yt_test,lr_small_bow_pred))"
   ]
  },
  {
   "cell_type": "code",
   "execution_count": 63,
   "metadata": {},
   "outputs": [
    {
     "name": "stdout",
     "output_type": "stream",
     "text": [
      "              precision    recall  f1-score   support\n",
      "\n",
      "           0       0.76      0.87      0.81      1033\n",
      "           1       0.81      0.67      0.73       870\n",
      "\n",
      "    accuracy                           0.78      1903\n",
      "   macro avg       0.78      0.77      0.77      1903\n",
      "weighted avg       0.78      0.78      0.77      1903\n",
      "\n"
     ]
    }
   ],
   "source": [
    "# TRAINING lOGISTIC REGRESSION WITH \"TEXT+KEYWORD\" TFIDF VECTORS WITH LESS FEATURES.\n",
    "lr_small_tfidf = LogisticRegression(solver= 'liblinear')\n",
    "lr_small_tfidf.fit(train_tfidf_small,yt_train)\n",
    "lr_small_tfidf_pred= lr_small_tfidf.predict(test_tfidf_small)\n",
    "print(classification_report(yt_test,lr_small_tfidf_pred))"
   ]
  },
  {
   "cell_type": "markdown",
   "metadata": {},
   "source": [
    "**From this we can see that, for F1 score, our Logistic Regression model trained on only the text column with all features and  Logistic Regression trained on less text features have the same performance.**"
   ]
  },
  {
   "cell_type": "markdown",
   "metadata": {},
   "source": [
    "## TRANSFORMING TEST DATA AND SAVING FINAL SUBMISSION FILE."
   ]
  },
  {
   "cell_type": "code",
   "execution_count": 64,
   "metadata": {},
   "outputs": [
    {
     "name": "stderr",
     "output_type": "stream",
     "text": [
      "100%|██████████████████████████████████████████████████████████████████████████████| 3263/3263 [09:07<00:00,  5.96it/s]\n"
     ]
    }
   ],
   "source": [
    "def decontracted(phrase):\n",
    "    # specific\n",
    "    phrase = re.sub(r\"won't\", \"will not\", phrase)\n",
    "    phrase = re.sub(r\"can\\'t\", \"can not\", phrase)\n",
    "\n",
    "    # general\n",
    "    phrase = re.sub(r\"n\\'t\", \" not\", phrase)\n",
    "    phrase = re.sub(r\"\\'re\", \" are\", phrase)\n",
    "    phrase = re.sub(r\"\\'s\", \" is\", phrase)\n",
    "    phrase = re.sub(r\"\\'d\", \" would\", phrase)\n",
    "    phrase = re.sub(r\"\\'ll\", \" will\", phrase)\n",
    "    phrase = re.sub(r\"\\'t\", \" not\", phrase)\n",
    "    phrase = re.sub(r\"\\'ve\", \" have\", phrase)\n",
    "    phrase = re.sub(r\"\\'m\", \" am\", phrase)\n",
    "    return phrase\n",
    "\n",
    "preprocessed_tweets = []\n",
    "# tqdm is for printing the status bar\n",
    "for sentance in tqdm(test['text'].values):\n",
    "    sentance = re.sub(r\"http\\S+\", \"\", sentance)\n",
    "    sentance = BeautifulSoup(sentance, 'lxml').get_text()\n",
    "    sentance = decontracted(sentance)\n",
    "    sentance = re.sub(\"\\S*\\d\\S*\", \"\", sentance).strip()\n",
    "    sentance = re.sub('[^A-Za-z]+', ' ', sentance)\n",
    "    #preprocessed_tweets.append(' '.join(token.lower() for token in nltk.word_tokenize(sentance) if token.lower() not in stopwords.words('english')))\n",
    "    sentance = ' '.join(e.lower() for e in sentance.split() if e.lower() not in stopwords.words())\n",
    "    preprocessed_tweets.append(sentance.strip())\n",
    "    \n",
    "test['processed_tweets'] = preprocessed_tweets    "
   ]
  },
  {
   "cell_type": "code",
   "execution_count": 65,
   "metadata": {},
   "outputs": [
    {
     "name": "stderr",
     "output_type": "stream",
     "text": [
      "100%|████████████████████████████████████████████████████████████████████████████| 3263/3263 [00:00<00:00, 4430.34it/s]\n"
     ]
    }
   ],
   "source": [
    "# STEMMING THE DATA AND ADDING IT TO DATAFRAME.\n",
    "new_list = []\n",
    "for text in tqdm(test['processed_tweets'].values):\n",
    "    text = text.split()\n",
    "    stemmer = SnowballStemmer(\"english\")\n",
    "    stemmed_text = []\n",
    "    for word in text:\n",
    "        word = stemmer.stem(word)\n",
    "        stemmed_text.append(word)\n",
    "    new_list.append(\" \".join(stemmed_text))    \n",
    "    \n",
    "test['stemmed_words']  = new_list"
   ]
  },
  {
   "cell_type": "code",
   "execution_count": 66,
   "metadata": {},
   "outputs": [
    {
     "data": {
      "text/html": [
       "<div>\n",
       "<style scoped>\n",
       "    .dataframe tbody tr th:only-of-type {\n",
       "        vertical-align: middle;\n",
       "    }\n",
       "\n",
       "    .dataframe tbody tr th {\n",
       "        vertical-align: top;\n",
       "    }\n",
       "\n",
       "    .dataframe thead th {\n",
       "        text-align: right;\n",
       "    }\n",
       "</style>\n",
       "<table border=\"1\" class=\"dataframe\">\n",
       "  <thead>\n",
       "    <tr style=\"text-align: right;\">\n",
       "      <th></th>\n",
       "      <th>id</th>\n",
       "      <th>keyword</th>\n",
       "      <th>location</th>\n",
       "      <th>text</th>\n",
       "      <th>processed_tweets</th>\n",
       "      <th>stemmed_words</th>\n",
       "    </tr>\n",
       "  </thead>\n",
       "  <tbody>\n",
       "    <tr>\n",
       "      <th>0</th>\n",
       "      <td>0</td>\n",
       "      <td>NaN</td>\n",
       "      <td>NaN</td>\n",
       "      <td>Just happened a terrible car crash</td>\n",
       "      <td>happened terrible car crash</td>\n",
       "      <td>happen terribl car crash</td>\n",
       "    </tr>\n",
       "    <tr>\n",
       "      <th>1</th>\n",
       "      <td>2</td>\n",
       "      <td>NaN</td>\n",
       "      <td>NaN</td>\n",
       "      <td>Heard about #earthquake is different cities, s...</td>\n",
       "      <td>heard earthquake different cities stay safe ev...</td>\n",
       "      <td>heard earthquak differ citi stay safe everyon</td>\n",
       "    </tr>\n",
       "    <tr>\n",
       "      <th>2</th>\n",
       "      <td>3</td>\n",
       "      <td>NaN</td>\n",
       "      <td>NaN</td>\n",
       "      <td>there is a forest fire at spot pond, geese are...</td>\n",
       "      <td>forest fire spot pond geese fleeing across str...</td>\n",
       "      <td>forest fire spot pond gees flee across street ...</td>\n",
       "    </tr>\n",
       "    <tr>\n",
       "      <th>3</th>\n",
       "      <td>9</td>\n",
       "      <td>NaN</td>\n",
       "      <td>NaN</td>\n",
       "      <td>Apocalypse lighting. #Spokane #wildfires</td>\n",
       "      <td>apocalypse lighting spokane wildfires</td>\n",
       "      <td>apocalyps light spokan wildfir</td>\n",
       "    </tr>\n",
       "    <tr>\n",
       "      <th>4</th>\n",
       "      <td>11</td>\n",
       "      <td>NaN</td>\n",
       "      <td>NaN</td>\n",
       "      <td>Typhoon Soudelor kills 28 in China and Taiwan</td>\n",
       "      <td>typhoon soudelor kills china taiwan</td>\n",
       "      <td>typhoon soudelor kill china taiwan</td>\n",
       "    </tr>\n",
       "  </tbody>\n",
       "</table>\n",
       "</div>"
      ],
      "text/plain": [
       "   id keyword location                                               text  \\\n",
       "0   0     NaN      NaN                 Just happened a terrible car crash   \n",
       "1   2     NaN      NaN  Heard about #earthquake is different cities, s...   \n",
       "2   3     NaN      NaN  there is a forest fire at spot pond, geese are...   \n",
       "3   9     NaN      NaN           Apocalypse lighting. #Spokane #wildfires   \n",
       "4  11     NaN      NaN      Typhoon Soudelor kills 28 in China and Taiwan   \n",
       "\n",
       "                                    processed_tweets  \\\n",
       "0                        happened terrible car crash   \n",
       "1  heard earthquake different cities stay safe ev...   \n",
       "2  forest fire spot pond geese fleeing across str...   \n",
       "3              apocalypse lighting spokane wildfires   \n",
       "4                typhoon soudelor kills china taiwan   \n",
       "\n",
       "                                       stemmed_words  \n",
       "0                           happen terribl car crash  \n",
       "1      heard earthquak differ citi stay safe everyon  \n",
       "2  forest fire spot pond gees flee across street ...  \n",
       "3                     apocalyps light spokan wildfir  \n",
       "4                 typhoon soudelor kill china taiwan  "
      ]
     },
     "execution_count": 66,
     "metadata": {},
     "output_type": "execute_result"
    }
   ],
   "source": [
    "test.head()"
   ]
  },
  {
   "cell_type": "code",
   "execution_count": 67,
   "metadata": {},
   "outputs": [],
   "source": [
    "# BOW\n",
    "t_bow_vec = bow_text.transform(test['stemmed_words'])"
   ]
  },
  {
   "cell_type": "code",
   "execution_count": 68,
   "metadata": {},
   "outputs": [],
   "source": [
    "final_pred = lrt_bow.predict(t_bow_vec)"
   ]
  },
  {
   "cell_type": "code",
   "execution_count": 69,
   "metadata": {},
   "outputs": [],
   "source": [
    "test['pred_target'] = final_pred "
   ]
  },
  {
   "cell_type": "code",
   "execution_count": 70,
   "metadata": {},
   "outputs": [
    {
     "data": {
      "text/html": [
       "<div>\n",
       "<style scoped>\n",
       "    .dataframe tbody tr th:only-of-type {\n",
       "        vertical-align: middle;\n",
       "    }\n",
       "\n",
       "    .dataframe tbody tr th {\n",
       "        vertical-align: top;\n",
       "    }\n",
       "\n",
       "    .dataframe thead th {\n",
       "        text-align: right;\n",
       "    }\n",
       "</style>\n",
       "<table border=\"1\" class=\"dataframe\">\n",
       "  <thead>\n",
       "    <tr style=\"text-align: right;\">\n",
       "      <th></th>\n",
       "      <th>id</th>\n",
       "      <th>keyword</th>\n",
       "      <th>location</th>\n",
       "      <th>text</th>\n",
       "      <th>processed_tweets</th>\n",
       "      <th>stemmed_words</th>\n",
       "      <th>pred_target</th>\n",
       "    </tr>\n",
       "  </thead>\n",
       "  <tbody>\n",
       "    <tr>\n",
       "      <th>0</th>\n",
       "      <td>0</td>\n",
       "      <td>NaN</td>\n",
       "      <td>NaN</td>\n",
       "      <td>Just happened a terrible car crash</td>\n",
       "      <td>happened terrible car crash</td>\n",
       "      <td>happen terribl car crash</td>\n",
       "      <td>1</td>\n",
       "    </tr>\n",
       "    <tr>\n",
       "      <th>1</th>\n",
       "      <td>2</td>\n",
       "      <td>NaN</td>\n",
       "      <td>NaN</td>\n",
       "      <td>Heard about #earthquake is different cities, s...</td>\n",
       "      <td>heard earthquake different cities stay safe ev...</td>\n",
       "      <td>heard earthquak differ citi stay safe everyon</td>\n",
       "      <td>1</td>\n",
       "    </tr>\n",
       "    <tr>\n",
       "      <th>2</th>\n",
       "      <td>3</td>\n",
       "      <td>NaN</td>\n",
       "      <td>NaN</td>\n",
       "      <td>there is a forest fire at spot pond, geese are...</td>\n",
       "      <td>forest fire spot pond geese fleeing across str...</td>\n",
       "      <td>forest fire spot pond gees flee across street ...</td>\n",
       "      <td>1</td>\n",
       "    </tr>\n",
       "    <tr>\n",
       "      <th>3</th>\n",
       "      <td>9</td>\n",
       "      <td>NaN</td>\n",
       "      <td>NaN</td>\n",
       "      <td>Apocalypse lighting. #Spokane #wildfires</td>\n",
       "      <td>apocalypse lighting spokane wildfires</td>\n",
       "      <td>apocalyps light spokan wildfir</td>\n",
       "      <td>1</td>\n",
       "    </tr>\n",
       "    <tr>\n",
       "      <th>4</th>\n",
       "      <td>11</td>\n",
       "      <td>NaN</td>\n",
       "      <td>NaN</td>\n",
       "      <td>Typhoon Soudelor kills 28 in China and Taiwan</td>\n",
       "      <td>typhoon soudelor kills china taiwan</td>\n",
       "      <td>typhoon soudelor kill china taiwan</td>\n",
       "      <td>1</td>\n",
       "    </tr>\n",
       "  </tbody>\n",
       "</table>\n",
       "</div>"
      ],
      "text/plain": [
       "   id keyword location                                               text  \\\n",
       "0   0     NaN      NaN                 Just happened a terrible car crash   \n",
       "1   2     NaN      NaN  Heard about #earthquake is different cities, s...   \n",
       "2   3     NaN      NaN  there is a forest fire at spot pond, geese are...   \n",
       "3   9     NaN      NaN           Apocalypse lighting. #Spokane #wildfires   \n",
       "4  11     NaN      NaN      Typhoon Soudelor kills 28 in China and Taiwan   \n",
       "\n",
       "                                    processed_tweets  \\\n",
       "0                        happened terrible car crash   \n",
       "1  heard earthquake different cities stay safe ev...   \n",
       "2  forest fire spot pond geese fleeing across str...   \n",
       "3              apocalypse lighting spokane wildfires   \n",
       "4                typhoon soudelor kills china taiwan   \n",
       "\n",
       "                                       stemmed_words  pred_target  \n",
       "0                           happen terribl car crash            1  \n",
       "1      heard earthquak differ citi stay safe everyon            1  \n",
       "2  forest fire spot pond gees flee across street ...            1  \n",
       "3                     apocalyps light spokan wildfir            1  \n",
       "4                 typhoon soudelor kill china taiwan            1  "
      ]
     },
     "execution_count": 70,
     "metadata": {},
     "output_type": "execute_result"
    }
   ],
   "source": [
    "test.head()"
   ]
  },
  {
   "cell_type": "code",
   "execution_count": 71,
   "metadata": {},
   "outputs": [],
   "source": [
    "sub = pd.concat([test['id'],test['pred_target']],axis = 1)"
   ]
  },
  {
   "cell_type": "code",
   "execution_count": 72,
   "metadata": {},
   "outputs": [
    {
     "data": {
      "text/html": [
       "<div>\n",
       "<style scoped>\n",
       "    .dataframe tbody tr th:only-of-type {\n",
       "        vertical-align: middle;\n",
       "    }\n",
       "\n",
       "    .dataframe tbody tr th {\n",
       "        vertical-align: top;\n",
       "    }\n",
       "\n",
       "    .dataframe thead th {\n",
       "        text-align: right;\n",
       "    }\n",
       "</style>\n",
       "<table border=\"1\" class=\"dataframe\">\n",
       "  <thead>\n",
       "    <tr style=\"text-align: right;\">\n",
       "      <th></th>\n",
       "      <th>id</th>\n",
       "      <th>pred_target</th>\n",
       "    </tr>\n",
       "  </thead>\n",
       "  <tbody>\n",
       "    <tr>\n",
       "      <th>0</th>\n",
       "      <td>0</td>\n",
       "      <td>1</td>\n",
       "    </tr>\n",
       "    <tr>\n",
       "      <th>1</th>\n",
       "      <td>2</td>\n",
       "      <td>1</td>\n",
       "    </tr>\n",
       "    <tr>\n",
       "      <th>2</th>\n",
       "      <td>3</td>\n",
       "      <td>1</td>\n",
       "    </tr>\n",
       "    <tr>\n",
       "      <th>3</th>\n",
       "      <td>9</td>\n",
       "      <td>1</td>\n",
       "    </tr>\n",
       "    <tr>\n",
       "      <th>4</th>\n",
       "      <td>11</td>\n",
       "      <td>1</td>\n",
       "    </tr>\n",
       "  </tbody>\n",
       "</table>\n",
       "</div>"
      ],
      "text/plain": [
       "   id  pred_target\n",
       "0   0            1\n",
       "1   2            1\n",
       "2   3            1\n",
       "3   9            1\n",
       "4  11            1"
      ]
     },
     "execution_count": 72,
     "metadata": {},
     "output_type": "execute_result"
    }
   ],
   "source": [
    "sub.head()"
   ]
  },
  {
   "cell_type": "code",
   "execution_count": 73,
   "metadata": {},
   "outputs": [],
   "source": [
    "sub['target'] = sub['pred_target']\n",
    "sub.drop(\"pred_target\",axis = 1,inplace = True)"
   ]
  },
  {
   "cell_type": "code",
   "execution_count": 74,
   "metadata": {},
   "outputs": [
    {
     "data": {
      "text/html": [
       "<div>\n",
       "<style scoped>\n",
       "    .dataframe tbody tr th:only-of-type {\n",
       "        vertical-align: middle;\n",
       "    }\n",
       "\n",
       "    .dataframe tbody tr th {\n",
       "        vertical-align: top;\n",
       "    }\n",
       "\n",
       "    .dataframe thead th {\n",
       "        text-align: right;\n",
       "    }\n",
       "</style>\n",
       "<table border=\"1\" class=\"dataframe\">\n",
       "  <thead>\n",
       "    <tr style=\"text-align: right;\">\n",
       "      <th></th>\n",
       "      <th>id</th>\n",
       "      <th>target</th>\n",
       "    </tr>\n",
       "  </thead>\n",
       "  <tbody>\n",
       "    <tr>\n",
       "      <th>0</th>\n",
       "      <td>0</td>\n",
       "      <td>1</td>\n",
       "    </tr>\n",
       "    <tr>\n",
       "      <th>1</th>\n",
       "      <td>2</td>\n",
       "      <td>1</td>\n",
       "    </tr>\n",
       "    <tr>\n",
       "      <th>2</th>\n",
       "      <td>3</td>\n",
       "      <td>1</td>\n",
       "    </tr>\n",
       "    <tr>\n",
       "      <th>3</th>\n",
       "      <td>9</td>\n",
       "      <td>1</td>\n",
       "    </tr>\n",
       "    <tr>\n",
       "      <th>4</th>\n",
       "      <td>11</td>\n",
       "      <td>1</td>\n",
       "    </tr>\n",
       "  </tbody>\n",
       "</table>\n",
       "</div>"
      ],
      "text/plain": [
       "   id  target\n",
       "0   0       1\n",
       "1   2       1\n",
       "2   3       1\n",
       "3   9       1\n",
       "4  11       1"
      ]
     },
     "execution_count": 74,
     "metadata": {},
     "output_type": "execute_result"
    }
   ],
   "source": [
    "sub.head()"
   ]
  },
  {
   "cell_type": "code",
   "execution_count": 75,
   "metadata": {},
   "outputs": [],
   "source": [
    "sub.to_csv(\"first_submission.csv\",index = False)"
   ]
  }
 ],
 "metadata": {
  "kernelspec": {
   "display_name": "Python 3",
   "language": "python",
   "name": "python3"
  },
  "language_info": {
   "codemirror_mode": {
    "name": "ipython",
    "version": 3
   },
   "file_extension": ".py",
   "mimetype": "text/x-python",
   "name": "python",
   "nbconvert_exporter": "python",
   "pygments_lexer": "ipython3",
   "version": "3.7.3"
  }
 },
 "nbformat": 4,
 "nbformat_minor": 2
}
